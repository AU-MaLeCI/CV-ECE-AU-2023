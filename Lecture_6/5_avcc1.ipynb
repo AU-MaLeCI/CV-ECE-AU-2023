{
 "cells": [
  {
   "cell_type": "markdown",
   "metadata": {},
   "source": [
    "# Install Requirements (Expects CUDA 11.0)"
   ]
  },
  {
   "cell_type": "code",
   "execution_count": null,
   "metadata": {},
   "outputs": [],
   "source": [
    "!pip install librosa==0.8.0"
   ]
  },
  {
   "cell_type": "code",
   "execution_count": null,
   "metadata": {},
   "outputs": [],
   "source": [
    "!pip install gdown==4.2.0 tensorflow==2.4.1 numpy==1.19.5 scikit-image==0.17.2 librosa==0.8.0 matplotlib==3.3.3 scipy==1.5.4"
   ]
  },
  {
   "cell_type": "markdown",
   "metadata": {},
   "source": [
    "# Setup Tensorflow on GPU(s)"
   ]
  },
  {
   "cell_type": "code",
   "execution_count": null,
   "metadata": {},
   "outputs": [],
   "source": [
    "SELECTED_GPUS = [0]  # which GPUs to use\n",
    "\n",
    "import os\n",
    "\n",
    "os.environ['CUDA_VISIBLE_DEVICES'] = ','.join([str(gpu_number) for gpu_number in SELECTED_GPUS])\n",
    "\n",
    "import tensorflow as tf \n",
    "\n",
    "tf.get_logger().setLevel('INFO')\n",
    "\n",
    "GPUS = tf.config.experimental.list_physical_devices('GPU')\n",
    "for gpu in GPUS:\n",
    "    tf.config.experimental.set_memory_growth(gpu, True)"
   ]
  },
  {
   "cell_type": "markdown",
   "metadata": {},
   "source": [
    "# Download Pre-Trained Model"
   ]
  },
  {
   "cell_type": "code",
   "execution_count": null,
   "metadata": {},
   "outputs": [],
   "source": [
    "import gdown\n",
    "\n",
    "model_path = 'av_cc_backbone_v10.h5'\n",
    "gdown.download(\n",
    "    'https://docs.google.com/uc?export=download&id=1vlnc6h8sZ_kL5w7QaQtJ2USAZ3FxjIsj',\n",
    "    model_path,\n",
    "    quiet=False\n",
    ")"
   ]
  },
  {
   "cell_type": "markdown",
   "metadata": {},
   "source": [
    "# Download and Unzip Data"
   ]
  },
  {
   "cell_type": "code",
   "execution_count": null,
   "metadata": {},
   "outputs": [],
   "source": [
    "gdown.download(\n",
    "    'https://docs.google.com/uc?export=download&id=1d4xS_pXhLUklej9i7sKzW8E28ZbnEmPT',\n",
    "    'samples.zip',\n",
    "    quiet=False\n",
    ")  "
   ]
  },
  {
   "cell_type": "code",
   "execution_count": null,
   "metadata": {},
   "outputs": [],
   "source": [
    "!apt-get install unzip\n",
    "!unzip samples.zip"
   ]
  },
  {
   "cell_type": "markdown",
   "metadata": {},
   "source": [
    "# Download and Modify the Code for Extracting Spectrograms from Raw Audio"
   ]
  },
  {
   "cell_type": "code",
   "execution_count": null,
   "metadata": {},
   "outputs": [],
   "source": [
    "import urllib.request\n",
    "\n",
    "download_list = [\n",
    "    (\n",
    "        'https://raw.githubusercontent.com/DTaoo/VGGish/master/mel_features.py',\n",
    "        'mel_features.py'\n",
    "    ),\n",
    "    (\n",
    "        'https://raw.githubusercontent.com/DTaoo/VGGish/master/preprocess_sound.py',\n",
    "        'preprocess_sound.py'\n",
    "    ),\n",
    "    (\n",
    "        'https://raw.githubusercontent.com/DTaoo/VGGish/master/vggish_params.py',\n",
    "        'vggish_params.py'\n",
    "    )\n",
    "]\n",
    "\n",
    "for url, file_path in download_list:\n",
    "    if not os.path.exists(file_path):\n",
    "        urllib.request.urlretrieve(url, file_path)"
   ]
  },
  {
   "cell_type": "code",
   "execution_count": null,
   "metadata": {},
   "outputs": [],
   "source": [
    "# Solving this issue: https://github.com/DTaoo/VGGish/issues/11\n",
    "params_path = 'vggish_params.py'\n",
    "with open(params_path, 'rt') as read_file:\n",
    "    text = read_file.read()\n",
    "with open(params_path, 'wt') as write_file:\n",
    "    write_file.write(text.replace('496', '96').replace('4.96', '0.96'))"
   ]
  },
  {
   "cell_type": "markdown",
   "metadata": {},
   "source": [
    "# Read Input Data and Retrieve Model Output"
   ]
  },
  {
   "cell_type": "code",
   "execution_count": null,
   "metadata": {},
   "outputs": [],
   "source": [
    "import librosa\n",
    "import matplotlib.pyplot as plt\n",
    "import numpy as np\n",
    "import scipy.io\n",
    "from preprocess_sound import preprocess_sound\n",
    "from skimage.transform import resize\n",
    "\n",
    "sample_number = 1  # 1 to 5\n",
    "head_annotation_path = 'samples/%d.mat' % sample_number\n",
    "image_path = 'samples/%d.jpg' % sample_number\n",
    "audio_path = 'samples/%d.wav' % sample_number\n",
    "sampling_rate = 48000\n",
    "\n",
    "head_annotation = scipy.io.loadmat(head_annotation_path)['map']\n",
    "count = np.sum(head_annotation)\n",
    "\n",
    "image = plt.imread(image_path, format='jpeg')\n",
    "resized_image = resize(image, (576, 1024))\n",
    "\n",
    "waveform, _ = librosa.load(audio_path, sr=sampling_rate)\n",
    "mel_spectrogram = preprocess_sound(waveform, sampling_rate)\n",
    "mel_spectrogram = np.moveaxis(mel_spectrogram, 0, -1)\n",
    "\n",
    "model = tf.keras.models.load_model(model_path, compile=False)\n",
    "density_map_prediction = model([\n",
    "    np.expand_dims(mel_spectrogram, axis=0),\n",
    "    np.expand_dims(resized_image, axis=0)\n",
    "])\n",
    "count_prediction = np.sum(density_map_prediction)"
   ]
  },
  {
   "cell_type": "markdown",
   "metadata": {},
   "source": [
    "# Visualize Input Data and Model Output"
   ]
  },
  {
   "cell_type": "code",
   "execution_count": null,
   "metadata": {},
   "outputs": [],
   "source": [
    "def visualize_data(image, density_map, spectrogram, count, count_prediction):\n",
    "    fig, ((ax1, ax2), (ax3, ax4)) = plt.subplots(2, 2, figsize=(20, 10))\n",
    "    fig.delaxes(ax4)\n",
    "    ax1.imshow(image)\n",
    "    ax1.set_title('Actual count: %d' % count)\n",
    "    ax2.imshow(density_map)\n",
    "    ax2.set_title('Predicted count: %.2f' % count_prediction)\n",
    "    ax3.imshow(spectrogram)\n",
    "    ax1.axis('off')\n",
    "    ax2.axis('off')\n",
    "    ax3.axis('off')\n",
    "    plt.show()\n",
    "\n",
    "visualize_data(resized_image, density_map_prediction[0], mel_spectrogram, count, count_prediction)"
   ]
  },
  {
   "cell_type": "code",
   "execution_count": null,
   "metadata": {},
   "outputs": [],
   "source": []
  }
 ],
 "metadata": {
  "kernelspec": {
   "display_name": "Python 3",
   "language": "python",
   "name": "python3"
  },
  "language_info": {
   "codemirror_mode": {
    "name": "ipython",
    "version": 3
   },
   "file_extension": ".py",
   "mimetype": "text/x-python",
   "name": "python",
   "nbconvert_exporter": "python",
   "pygments_lexer": "ipython3",
   "version": "3.8.10"
  }
 },
 "nbformat": 4,
 "nbformat_minor": 4
}
